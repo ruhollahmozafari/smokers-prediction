{
 "cells": [
  {
   "cell_type": "code",
   "execution_count": 3,
   "metadata": {},
   "outputs": [],
   "source": [
    "from sklearn.model_selection import train_test_split\n",
    "import pandas as pd\n",
    "import numpy as np \n",
    "from collections import Counter\n",
    "import matplotlib.pyplot as plt\n",
    "from tqdm import tqdm\n",
    "import time\n",
    "total_result = dict() # to store the result of diferent approaches "
   ]
  },
  {
   "cell_type": "markdown",
   "metadata": {},
   "source": [
    "Data Preparation"
   ]
  },
  {
   "cell_type": "code",
   "execution_count": 4,
   "metadata": {},
   "outputs": [],
   "source": [
    "x_train = pd.read_csv('smoking data/competition_format/x_train.csv')\n",
    "y_train = pd.read_csv('smoking data/competition_format/y_train.csv')['smoking']\n",
    "x_test = pd.read_csv('smoking data/competition_format/x_test.csv')\n",
    "y_test= pd.read_csv('smoking data/competition_format/y_test.csv')['smoking'].squeeze()\n",
    "x_train, x_valid, y_train, y_valid = train_test_split(\n",
    "                                                    x_train, \n",
    "                                                    y_train,\n",
    "                                                    test_size = 0.25,\n",
    "                                                    random_state = 8) \n",
    "\n",
    "all_data = (x_train, x_test, x_valid, y_train, y_test, y_valid)"
   ]
  },
  {
   "cell_type": "code",
   "execution_count": 5,
   "metadata": {},
   "outputs": [
    {
     "data": {
      "text/plain": [
       "[None, None, None, None, None, None]"
      ]
     },
     "execution_count": 5,
     "metadata": {},
     "output_type": "execute_result"
    }
   ],
   "source": [
    "# some functions \n",
    "from sklearn import preprocessing\n",
    "\n",
    "def calculate_acc(y_pred, y_test):\n",
    "      return np.mean(y_pred == y_test)\n",
    "\n",
    "\n",
    "le = preprocessing.LabelEncoder()\n",
    "def labalize(data):\n",
    "    try:\n",
    "        for column_name in data.columns:\n",
    "            if data[column_name].dtype == object:\n",
    "                data[column_name] = le.fit_transform(data[column_name])\n",
    "            else:\n",
    "                pass\n",
    "    except:\n",
    "        pass\n",
    "[labalize(d) for d in all_data]\n",
    "    \n"
   ]
  },
  {
   "cell_type": "code",
   "execution_count": 4,
   "metadata": {},
   "outputs": [
    {
     "data": {
      "text/html": [
       "<div>\n",
       "<style scoped>\n",
       "    .dataframe tbody tr th:only-of-type {\n",
       "        vertical-align: middle;\n",
       "    }\n",
       "\n",
       "    .dataframe tbody tr th {\n",
       "        vertical-align: top;\n",
       "    }\n",
       "\n",
       "    .dataframe thead th {\n",
       "        text-align: right;\n",
       "    }\n",
       "</style>\n",
       "<table border=\"1\" class=\"dataframe\">\n",
       "  <thead>\n",
       "    <tr style=\"text-align: right;\">\n",
       "      <th></th>\n",
       "      <th>ID</th>\n",
       "      <th>gender</th>\n",
       "      <th>age</th>\n",
       "      <th>height(cm)</th>\n",
       "      <th>weight(kg)</th>\n",
       "      <th>waist(cm)</th>\n",
       "      <th>eyesight(left)</th>\n",
       "      <th>eyesight(right)</th>\n",
       "      <th>hearing(left)</th>\n",
       "      <th>hearing(right)</th>\n",
       "      <th>...</th>\n",
       "      <th>LDL</th>\n",
       "      <th>hemoglobin</th>\n",
       "      <th>Urine protein</th>\n",
       "      <th>serum creatinine</th>\n",
       "      <th>AST</th>\n",
       "      <th>ALT</th>\n",
       "      <th>Gtp</th>\n",
       "      <th>oral</th>\n",
       "      <th>dental caries</th>\n",
       "      <th>tartar</th>\n",
       "    </tr>\n",
       "  </thead>\n",
       "  <tbody>\n",
       "    <tr>\n",
       "      <th>0</th>\n",
       "      <td>8</td>\n",
       "      <td>1</td>\n",
       "      <td>80</td>\n",
       "      <td>160</td>\n",
       "      <td>65</td>\n",
       "      <td>91.0</td>\n",
       "      <td>0.9</td>\n",
       "      <td>0.7</td>\n",
       "      <td>1.0</td>\n",
       "      <td>1.0</td>\n",
       "      <td>...</td>\n",
       "      <td>94.0</td>\n",
       "      <td>14.5</td>\n",
       "      <td>1.0</td>\n",
       "      <td>1.0</td>\n",
       "      <td>29.0</td>\n",
       "      <td>19.0</td>\n",
       "      <td>39.0</td>\n",
       "      <td>0</td>\n",
       "      <td>0.0</td>\n",
       "      <td>0</td>\n",
       "    </tr>\n",
       "    <tr>\n",
       "      <th>1</th>\n",
       "      <td>17</td>\n",
       "      <td>1</td>\n",
       "      <td>30</td>\n",
       "      <td>165</td>\n",
       "      <td>90</td>\n",
       "      <td>98.0</td>\n",
       "      <td>1.5</td>\n",
       "      <td>1.5</td>\n",
       "      <td>1.0</td>\n",
       "      <td>1.0</td>\n",
       "      <td>...</td>\n",
       "      <td>165.0</td>\n",
       "      <td>15.6</td>\n",
       "      <td>1.0</td>\n",
       "      <td>0.9</td>\n",
       "      <td>20.0</td>\n",
       "      <td>37.0</td>\n",
       "      <td>34.0</td>\n",
       "      <td>0</td>\n",
       "      <td>0.0</td>\n",
       "      <td>0</td>\n",
       "    </tr>\n",
       "    <tr>\n",
       "      <th>2</th>\n",
       "      <td>20</td>\n",
       "      <td>1</td>\n",
       "      <td>40</td>\n",
       "      <td>170</td>\n",
       "      <td>75</td>\n",
       "      <td>81.0</td>\n",
       "      <td>1.5</td>\n",
       "      <td>1.5</td>\n",
       "      <td>1.0</td>\n",
       "      <td>1.0</td>\n",
       "      <td>...</td>\n",
       "      <td>98.0</td>\n",
       "      <td>16.4</td>\n",
       "      <td>1.0</td>\n",
       "      <td>0.7</td>\n",
       "      <td>25.0</td>\n",
       "      <td>32.0</td>\n",
       "      <td>73.0</td>\n",
       "      <td>0</td>\n",
       "      <td>0.0</td>\n",
       "      <td>0</td>\n",
       "    </tr>\n",
       "    <tr>\n",
       "      <th>3</th>\n",
       "      <td>24</td>\n",
       "      <td>1</td>\n",
       "      <td>35</td>\n",
       "      <td>175</td>\n",
       "      <td>70</td>\n",
       "      <td>80.0</td>\n",
       "      <td>1.0</td>\n",
       "      <td>1.0</td>\n",
       "      <td>1.0</td>\n",
       "      <td>1.0</td>\n",
       "      <td>...</td>\n",
       "      <td>160.0</td>\n",
       "      <td>15.3</td>\n",
       "      <td>1.0</td>\n",
       "      <td>0.7</td>\n",
       "      <td>30.0</td>\n",
       "      <td>55.0</td>\n",
       "      <td>50.0</td>\n",
       "      <td>0</td>\n",
       "      <td>0.0</td>\n",
       "      <td>0</td>\n",
       "    </tr>\n",
       "    <tr>\n",
       "      <th>4</th>\n",
       "      <td>25</td>\n",
       "      <td>1</td>\n",
       "      <td>35</td>\n",
       "      <td>160</td>\n",
       "      <td>75</td>\n",
       "      <td>93.0</td>\n",
       "      <td>1.0</td>\n",
       "      <td>1.2</td>\n",
       "      <td>1.0</td>\n",
       "      <td>1.0</td>\n",
       "      <td>...</td>\n",
       "      <td>132.0</td>\n",
       "      <td>14.7</td>\n",
       "      <td>1.0</td>\n",
       "      <td>1.1</td>\n",
       "      <td>35.0</td>\n",
       "      <td>58.0</td>\n",
       "      <td>56.0</td>\n",
       "      <td>0</td>\n",
       "      <td>0.0</td>\n",
       "      <td>0</td>\n",
       "    </tr>\n",
       "    <tr>\n",
       "      <th>...</th>\n",
       "      <td>...</td>\n",
       "      <td>...</td>\n",
       "      <td>...</td>\n",
       "      <td>...</td>\n",
       "      <td>...</td>\n",
       "      <td>...</td>\n",
       "      <td>...</td>\n",
       "      <td>...</td>\n",
       "      <td>...</td>\n",
       "      <td>...</td>\n",
       "      <td>...</td>\n",
       "      <td>...</td>\n",
       "      <td>...</td>\n",
       "      <td>...</td>\n",
       "      <td>...</td>\n",
       "      <td>...</td>\n",
       "      <td>...</td>\n",
       "      <td>...</td>\n",
       "      <td>...</td>\n",
       "      <td>...</td>\n",
       "      <td>...</td>\n",
       "    </tr>\n",
       "    <tr>\n",
       "      <th>11134</th>\n",
       "      <td>55676</td>\n",
       "      <td>0</td>\n",
       "      <td>40</td>\n",
       "      <td>170</td>\n",
       "      <td>65</td>\n",
       "      <td>75.0</td>\n",
       "      <td>0.9</td>\n",
       "      <td>0.9</td>\n",
       "      <td>1.0</td>\n",
       "      <td>1.0</td>\n",
       "      <td>...</td>\n",
       "      <td>118.0</td>\n",
       "      <td>12.3</td>\n",
       "      <td>1.0</td>\n",
       "      <td>0.6</td>\n",
       "      <td>14.0</td>\n",
       "      <td>7.0</td>\n",
       "      <td>10.0</td>\n",
       "      <td>0</td>\n",
       "      <td>1.0</td>\n",
       "      <td>1</td>\n",
       "    </tr>\n",
       "    <tr>\n",
       "      <th>11135</th>\n",
       "      <td>55681</td>\n",
       "      <td>0</td>\n",
       "      <td>45</td>\n",
       "      <td>160</td>\n",
       "      <td>50</td>\n",
       "      <td>70.0</td>\n",
       "      <td>1.2</td>\n",
       "      <td>1.2</td>\n",
       "      <td>1.0</td>\n",
       "      <td>1.0</td>\n",
       "      <td>...</td>\n",
       "      <td>79.0</td>\n",
       "      <td>14.0</td>\n",
       "      <td>1.0</td>\n",
       "      <td>0.9</td>\n",
       "      <td>20.0</td>\n",
       "      <td>12.0</td>\n",
       "      <td>14.0</td>\n",
       "      <td>0</td>\n",
       "      <td>0.0</td>\n",
       "      <td>1</td>\n",
       "    </tr>\n",
       "    <tr>\n",
       "      <th>11136</th>\n",
       "      <td>55683</td>\n",
       "      <td>0</td>\n",
       "      <td>55</td>\n",
       "      <td>160</td>\n",
       "      <td>50</td>\n",
       "      <td>68.5</td>\n",
       "      <td>1.0</td>\n",
       "      <td>1.2</td>\n",
       "      <td>1.0</td>\n",
       "      <td>1.0</td>\n",
       "      <td>...</td>\n",
       "      <td>63.0</td>\n",
       "      <td>12.4</td>\n",
       "      <td>1.0</td>\n",
       "      <td>0.5</td>\n",
       "      <td>17.0</td>\n",
       "      <td>11.0</td>\n",
       "      <td>12.0</td>\n",
       "      <td>0</td>\n",
       "      <td>0.0</td>\n",
       "      <td>0</td>\n",
       "    </tr>\n",
       "    <tr>\n",
       "      <th>11137</th>\n",
       "      <td>55684</td>\n",
       "      <td>1</td>\n",
       "      <td>60</td>\n",
       "      <td>165</td>\n",
       "      <td>60</td>\n",
       "      <td>78.0</td>\n",
       "      <td>0.8</td>\n",
       "      <td>1.0</td>\n",
       "      <td>1.0</td>\n",
       "      <td>1.0</td>\n",
       "      <td>...</td>\n",
       "      <td>146.0</td>\n",
       "      <td>14.4</td>\n",
       "      <td>1.0</td>\n",
       "      <td>0.7</td>\n",
       "      <td>20.0</td>\n",
       "      <td>19.0</td>\n",
       "      <td>18.0</td>\n",
       "      <td>0</td>\n",
       "      <td>0.0</td>\n",
       "      <td>0</td>\n",
       "    </tr>\n",
       "    <tr>\n",
       "      <th>11138</th>\n",
       "      <td>55691</td>\n",
       "      <td>1</td>\n",
       "      <td>55</td>\n",
       "      <td>160</td>\n",
       "      <td>65</td>\n",
       "      <td>85.0</td>\n",
       "      <td>0.9</td>\n",
       "      <td>0.7</td>\n",
       "      <td>1.0</td>\n",
       "      <td>1.0</td>\n",
       "      <td>...</td>\n",
       "      <td>150.0</td>\n",
       "      <td>15.0</td>\n",
       "      <td>1.0</td>\n",
       "      <td>0.8</td>\n",
       "      <td>26.0</td>\n",
       "      <td>29.0</td>\n",
       "      <td>41.0</td>\n",
       "      <td>0</td>\n",
       "      <td>0.0</td>\n",
       "      <td>1</td>\n",
       "    </tr>\n",
       "  </tbody>\n",
       "</table>\n",
       "<p>11139 rows × 26 columns</p>\n",
       "</div>"
      ],
      "text/plain": [
       "          ID  gender  age  height(cm)  weight(kg)  waist(cm)  eyesight(left)  \\\n",
       "0          8       1   80         160          65       91.0             0.9   \n",
       "1         17       1   30         165          90       98.0             1.5   \n",
       "2         20       1   40         170          75       81.0             1.5   \n",
       "3         24       1   35         175          70       80.0             1.0   \n",
       "4         25       1   35         160          75       93.0             1.0   \n",
       "...      ...     ...  ...         ...         ...        ...             ...   \n",
       "11134  55676       0   40         170          65       75.0             0.9   \n",
       "11135  55681       0   45         160          50       70.0             1.2   \n",
       "11136  55683       0   55         160          50       68.5             1.0   \n",
       "11137  55684       1   60         165          60       78.0             0.8   \n",
       "11138  55691       1   55         160          65       85.0             0.9   \n",
       "\n",
       "       eyesight(right)  hearing(left)  hearing(right)  ...    LDL  hemoglobin  \\\n",
       "0                  0.7            1.0             1.0  ...   94.0        14.5   \n",
       "1                  1.5            1.0             1.0  ...  165.0        15.6   \n",
       "2                  1.5            1.0             1.0  ...   98.0        16.4   \n",
       "3                  1.0            1.0             1.0  ...  160.0        15.3   \n",
       "4                  1.2            1.0             1.0  ...  132.0        14.7   \n",
       "...                ...            ...             ...  ...    ...         ...   \n",
       "11134              0.9            1.0             1.0  ...  118.0        12.3   \n",
       "11135              1.2            1.0             1.0  ...   79.0        14.0   \n",
       "11136              1.2            1.0             1.0  ...   63.0        12.4   \n",
       "11137              1.0            1.0             1.0  ...  146.0        14.4   \n",
       "11138              0.7            1.0             1.0  ...  150.0        15.0   \n",
       "\n",
       "       Urine protein  serum creatinine   AST   ALT   Gtp  oral  dental caries  \\\n",
       "0                1.0               1.0  29.0  19.0  39.0     0            0.0   \n",
       "1                1.0               0.9  20.0  37.0  34.0     0            0.0   \n",
       "2                1.0               0.7  25.0  32.0  73.0     0            0.0   \n",
       "3                1.0               0.7  30.0  55.0  50.0     0            0.0   \n",
       "4                1.0               1.1  35.0  58.0  56.0     0            0.0   \n",
       "...              ...               ...   ...   ...   ...   ...            ...   \n",
       "11134            1.0               0.6  14.0   7.0  10.0     0            1.0   \n",
       "11135            1.0               0.9  20.0  12.0  14.0     0            0.0   \n",
       "11136            1.0               0.5  17.0  11.0  12.0     0            0.0   \n",
       "11137            1.0               0.7  20.0  19.0  18.0     0            0.0   \n",
       "11138            1.0               0.8  26.0  29.0  41.0     0            0.0   \n",
       "\n",
       "       tartar  \n",
       "0           0  \n",
       "1           0  \n",
       "2           0  \n",
       "3           0  \n",
       "4           0  \n",
       "...       ...  \n",
       "11134       1  \n",
       "11135       1  \n",
       "11136       0  \n",
       "11137       0  \n",
       "11138       1  \n",
       "\n",
       "[11139 rows x 26 columns]"
      ]
     },
     "execution_count": 4,
     "metadata": {},
     "output_type": "execute_result"
    }
   ],
   "source": [
    "x_test.shape, x_test.shape, x_valid.shape,y_test.shape, y_test.shape, y_valid.shape, \n",
    "x_test"
   ]
  },
  {
   "cell_type": "markdown",
   "metadata": {},
   "source": [
    "#1 Desicion Tree"
   ]
  },
  {
   "cell_type": "code",
   "execution_count": 75,
   "metadata": {},
   "outputs": [
    {
     "name": "stdout",
     "output_type": "stream",
     "text": [
      "7\n"
     ]
    },
    {
     "data": {
      "image/png": "[encoded data removed]",
      "text/plain": [
       "<Figure size 432x288 with 1 Axes>"
      ]
     },
     "metadata": {
      "needs_background": "light"
     },
     "output_type": "display_data"
    }
   ],
   "source": [
    "from sklearn.tree import DecisionTreeClassifier\n",
    "\n",
    "# hyperparameter tuning\n",
    "depths = range(1 , 25, 2)\n",
    "depth_mae = dict()\n",
    "for depth in depths:\n",
    "  clf = DecisionTreeClassifier(max_depth = depth)\n",
    "  clf.fit(x_train, y_train)\n",
    "  y_pred = clf.predict(x_valid)\n",
    "  acc = calculate_acc(y_pred, y_valid)\n",
    "  depth_mae[depth] = acc\n",
    "plt.plot(list(depth_mae.keys()), list(depth_mae.values()))\n",
    "plt.xlabel('Depth')\n",
    "plt.ylabel('Test ACC')\n",
    "\n",
    "# usage\n",
    "best_max_depth = max(depth_mae, key = depth_mae.get)\n",
    "clf = DecisionTreeClassifier(max_depth = best_max_depth )\n",
    "clf.fit(x_train, y_train)\n",
    "y_pred = clf.predict(x_test)\n",
    "acc = calculate_acc(y_pred, y_test)\n",
    "\n",
    "total_result['decision_tree'] = acc\n"
   ]
  },
  {
   "cell_type": "markdown",
   "metadata": {},
   "source": [
    "#2 KNN"
   ]
  },
  {
   "cell_type": "code",
   "execution_count": 83,
   "metadata": {},
   "outputs": [
    {
     "name": "stderr",
     "output_type": "stream",
     "text": [
      "100%|██████████| 2/2 [00:04<00:00,  2.16s/it]\n"
     ]
    },
    {
     "ename": "AttributeError",
     "evalue": "'dict' object has no attribute 'key'",
     "output_type": "error",
     "traceback": [
      "\u001b[0;31m---------------------------------------------------------------------------\u001b[0m",
      "\u001b[0;31mAttributeError\u001b[0m                            Traceback (most recent call last)",
      "\u001b[1;32m/home/ruhy/projects/data_mining_uni/classification.ipynb Cell 9'\u001b[0m in \u001b[0;36m<cell line: 13>\u001b[0;34m()\u001b[0m\n\u001b[1;32m     <a href='vscode-notebook-cell:/home/ruhy/projects/data_mining_uni/classification.ipynb#ch0000010?line=9'>10</a>\u001b[0m   k_scores[k] \u001b[39m=\u001b[39m clf\u001b[39m.\u001b[39mscore(x_valid, y_valid)\n\u001b[1;32m     <a href='vscode-notebook-cell:/home/ruhy/projects/data_mining_uni/classification.ipynb#ch0000010?line=11'>12</a>\u001b[0m \u001b[39m# plot\u001b[39;00m\n\u001b[0;32m---> <a href='vscode-notebook-cell:/home/ruhy/projects/data_mining_uni/classification.ipynb#ch0000010?line=12'>13</a>\u001b[0m plt\u001b[39m.\u001b[39mplot(k_scores\u001b[39m.\u001b[39;49mkey(), k_scores\u001b[39m.\u001b[39mvlaues(), \u001b[39m'\u001b[39m\u001b[39mg\u001b[39m\u001b[39m'\u001b[39m)\n\u001b[1;32m     <a href='vscode-notebook-cell:/home/ruhy/projects/data_mining_uni/classification.ipynb#ch0000010?line=13'>14</a>\u001b[0m plt\u001b[39m.\u001b[39mlegend([\u001b[39m'\u001b[39m\u001b[39mTest\u001b[39m\u001b[39m'\u001b[39m])\n\u001b[1;32m     <a href='vscode-notebook-cell:/home/ruhy/projects/data_mining_uni/classification.ipynb#ch0000010?line=14'>15</a>\u001b[0m plt\u001b[39m.\u001b[39mxlabel(\u001b[39m'\u001b[39m\u001b[39mNumber of Neighbors\u001b[39m\u001b[39m'\u001b[39m)\n",
      "\u001b[0;31mAttributeError\u001b[0m: 'dict' object has no attribute 'key'"
     ]
    }
   ],
   "source": [
    "from sklearn.neighbors import KNeighborsClassifier\n",
    "\n",
    "# Tuning hyperparameter k\n",
    "acc_train = []\n",
    "k_scores = {}\n",
    "k_range = range(1, 10, 5)\n",
    "for k in tqdm(k_range):\n",
    "  clf = KNeighborsClassifier(n_neighbors=k)\n",
    "  clf.fit(x_train, y_train)\n",
    "  k_scores[k] = clf.score(x_valid, y_valid)\n",
    "  \n",
    "# plot\n",
    "plt.plot(k_scores.keys(), k_scores.vlaues(), 'g')\n",
    "plt.legend(['Test'])\n",
    "plt.xlabel('Number of Neighbors')\n",
    "plt.ylabel('Accuracy')\n",
    "\n",
    "best_k = max(k_scores, key=k_scores.get)\n",
    "print(best_k)\n",
    "clf = KNeighborsClassifier(n_neighbors= best_k)\n",
    "clf.fit(x_train, y_train)\n",
    "score = clf.score(x_test, y_test)\n",
    "\n",
    "\n",
    "total_result['knn'] = score\n",
    "\n",
    "\n"
   ]
  },
  {
   "cell_type": "markdown",
   "metadata": {},
   "source": [
    "#2 Logistic Regression"
   ]
  },
  {
   "cell_type": "code",
   "execution_count": 77,
   "metadata": {},
   "outputs": [
    {
     "name": "stderr",
     "output_type": "stream",
     "text": [
      "/home/ruhy/.local/lib/python3.10/site-packages/sklearn/linear_model/_logistic.py:444: ConvergenceWarning: lbfgs failed to converge (status=1):\n",
      "STOP: TOTAL NO. of ITERATIONS REACHED LIMIT.\n",
      "\n",
      "Increase the number of iterations (max_iter) or scale the data as shown in:\n",
      "    https://scikit-learn.org/stable/modules/preprocessing.html\n",
      "Please also refer to the documentation for alternative solver options:\n",
      "    https://scikit-learn.org/stable/modules/linear_model.html#logistic-regression\n",
      "  n_iter_i = _check_optimize_result(\n",
      "/home/ruhy/.local/lib/python3.10/site-packages/sklearn/linear_model/_logistic.py:444: ConvergenceWarning: lbfgs failed to converge (status=1):\n",
      "STOP: TOTAL NO. of ITERATIONS REACHED LIMIT.\n",
      "\n",
      "Increase the number of iterations (max_iter) or scale the data as shown in:\n",
      "    https://scikit-learn.org/stable/modules/preprocessing.html\n",
      "Please also refer to the documentation for alternative solver options:\n",
      "    https://scikit-learn.org/stable/modules/linear_model.html#logistic-regression\n",
      "  n_iter_i = _check_optimize_result(\n",
      "/home/ruhy/.local/lib/python3.10/site-packages/sklearn/linear_model/_logistic.py:444: ConvergenceWarning: lbfgs failed to converge (status=1):\n",
      "STOP: TOTAL NO. of ITERATIONS REACHED LIMIT.\n",
      "\n",
      "Increase the number of iterations (max_iter) or scale the data as shown in:\n",
      "    https://scikit-learn.org/stable/modules/preprocessing.html\n",
      "Please also refer to the documentation for alternative solver options:\n",
      "    https://scikit-learn.org/stable/modules/linear_model.html#logistic-regression\n",
      "  n_iter_i = _check_optimize_result(\n",
      "/home/ruhy/.local/lib/python3.10/site-packages/sklearn/linear_model/_logistic.py:444: ConvergenceWarning: lbfgs failed to converge (status=1):\n",
      "STOP: TOTAL NO. of ITERATIONS REACHED LIMIT.\n",
      "\n",
      "Increase the number of iterations (max_iter) or scale the data as shown in:\n",
      "    https://scikit-learn.org/stable/modules/preprocessing.html\n",
      "Please also refer to the documentation for alternative solver options:\n",
      "    https://scikit-learn.org/stable/modules/linear_model.html#logistic-regression\n",
      "  n_iter_i = _check_optimize_result(\n",
      "/home/ruhy/.local/lib/python3.10/site-packages/sklearn/linear_model/_logistic.py:444: ConvergenceWarning: lbfgs failed to converge (status=1):\n",
      "STOP: TOTAL NO. of ITERATIONS REACHED LIMIT.\n",
      "\n",
      "Increase the number of iterations (max_iter) or scale the data as shown in:\n",
      "    https://scikit-learn.org/stable/modules/preprocessing.html\n",
      "Please also refer to the documentation for alternative solver options:\n",
      "    https://scikit-learn.org/stable/modules/linear_model.html#logistic-regression\n",
      "  n_iter_i = _check_optimize_result(\n"
     ]
    }
   ],
   "source": [
    "from sklearn.linear_model import LogisticRegression\n",
    "from sklearn.preprocessing import StandardScaler\n",
    "scaler = StandardScaler()\n",
    "scaled_X_train = scaler.fit_transform(x_train)\n",
    "scaled_X_test = scaler.fit_transform(x_test)\n",
    "\n",
    "c_scores = dict()\n",
    "# hype tunning and plot\n",
    "for c in range(1,5):\n",
    "  clf = LogisticRegression(C= c )\n",
    "  clf.fit(x_train, y_train)\n",
    "  score = clf.score(x_valid, y_valid)\n",
    "  c_scores[c] = score\n",
    "  \n",
    "#TODO:\n",
    "plt.plot(c_scores.keys(), c_scores.values() , 'g')\n",
    "plt.legend(['Test'])\n",
    "plt.xlabel('Number of Neighbors')\n",
    "plt.ylabel('Accuracy')\n",
    "\n",
    "\n",
    "# usage\n",
    "best_c = max(c_scores, key = c_scores.get)\n",
    "clf = LogisticRegression(C = best_c)\n",
    "clf.fit(x_train, y_train)\n",
    "score = clf.score(x_test, y_test) \n",
    "total_result['Logistic_Regression'] = score\n",
    "\n",
    "  \n",
    "\n"
   ]
  },
  {
   "cell_type": "markdown",
   "metadata": {},
   "source": [
    "#3 SVM"
   ]
  },
  {
   "cell_type": "code",
   "execution_count": 9,
   "metadata": {},
   "outputs": [
    {
     "name": "stderr",
     "output_type": "stream",
     "text": [
      " 10%|█         | 1/10 [03:00<27:06, 180.71s/it]"
     ]
    }
   ],
   "source": [
    "from sklearn.svm import SVC\n",
    "c_arr = [0.001, 0.01, 0.1, 1, 10, 1e2, 1e3, 1e4, 1e5, 1e6]\n",
    "train_acc = []\n",
    "test_acc = []\n",
    "hyperpara = {}\n",
    "for C in tqdm(c_arr):\n",
    "    svc = SVC(C=C)\n",
    "    svc.fit(x_train, y_train)\n",
    "\n",
    "    # train_acc.append(svc.score(x_valid, y_valid))\n",
    "    score = svc.score(x_valid, y_valid)\n",
    "    type(score)\n",
    "    test_acc.append(score)\n",
    "    hyperpara[C] = score\n",
    "total_result['SVM'] = max(test_acc)\n",
    "    # plot_desicion_boundary(X, y, svc, title=f\"C={C}\")"
   ]
  },
  {
   "cell_type": "code",
   "execution_count": null,
   "metadata": {},
   "outputs": [],
   "source": [
    "# plot for hyper parametter accuracy \n",
    "plt.plot(np.log10(c_arr), train_acc, 'r')\n",
    "plt.plot(np.log10(c_arr), test_acc, 'b')\n",
    "plt.legend(['Train', 'Test'])\n",
    "plt.xlabel('log(C)')\n",
    "plt.ylabel('Accuracy')\n",
    "plt.show()"
   ]
  },
  {
   "cell_type": "markdown",
   "metadata": {},
   "source": [
    "#4 Naive Bayes"
   ]
  },
  {
   "cell_type": "code",
   "execution_count": 36,
   "metadata": {},
   "outputs": [
    {
     "name": "stdout",
     "output_type": "stream",
     "text": [
      "Number of mislabeled points out of a total 11139 points : 3318\n"
     ]
    },
    {
     "data": {
      "text/plain": [
       "{'Naive_Bayes': 70.2127659574468}"
      ]
     },
     "execution_count": 36,
     "metadata": {},
     "output_type": "execute_result"
    }
   ],
   "source": [
    "from sklearn.naive_bayes import GaussianNB\n",
    "gnb = GaussianNB()\n",
    "y_pred = gnb.fit(x_train, y_train).predict(x_valid)\n",
    "# total_true = int((y_test != y_pred).sum())\n",
    "len_train  = x_test.shape[0]\n",
    "total_trues = (y_valid != y_pred).sum()\n",
    "print(\"Number of mislabeled points out of a total %d points : %d\"\n",
    "      % (len_train, total_trues))\n",
    "total_result['Naive_Bayes'] = (len_train - total_trues) / len_train * 100\n",
    "total_result\n",
    "\n",
    "\n"
   ]
  },
  {
   "cell_type": "markdown",
   "metadata": {},
   "source": [
    "#5 Random Forest"
   ]
  },
  {
   "cell_type": "code",
   "execution_count": 61,
   "metadata": {},
   "outputs": [],
   "source": [
    "from sklearn.ensemble import RandomForestClassifier\n",
    "clf = RandomForestClassifier()\n",
    "clf.fit(x_train, y_train)\n",
    "clf.score(x_valid, y_valid)\n",
    "total_result['Random_Forest'] = clf.score(x_test, y_test)\n"
   ]
  },
  {
   "cell_type": "code",
   "execution_count": 46,
   "metadata": {},
   "outputs": [],
   "source": [
    "# hyper parameter : n_estiamtors (the number of trees)\n",
    "trees = []\n",
    "scores = []\n",
    "for i in range(100, 1001, 200 ):\n",
    "    clf = RandomForestClassifier(random_state=0, n_estimators = i)\n",
    "    clf.fit(x_train, y_train)\n",
    "    score = clf.score(x_valid, y_valid)\n",
    "    trees.append(i)\n",
    "    scores.append(score)\n",
    "\n"
   ]
  },
  {
   "cell_type": "code",
   "execution_count": 57,
   "metadata": {},
   "outputs": [
    {
     "ename": "ValueError",
     "evalue": "The truth value of an array with more than one element is ambiguous. Use a.any() or a.all()",
     "output_type": "error",
     "traceback": [
      "\u001b[0;31m---------------------------------------------------------------------------\u001b[0m",
      "\u001b[0;31mValueError\u001b[0m                                Traceback (most recent call last)",
      "\u001b[1;32m/home/ruhy/projects/data_mining_uni/classification.ipynb Cell 23'\u001b[0m in \u001b[0;36m<cell line: 1>\u001b[0;34m()\u001b[0m\n\u001b[1;32m      <a href='vscode-notebook-cell:/home/ruhy/projects/data_mining_uni/classification.ipynb#ch0000033?line=0'>1</a>\u001b[0m \u001b[39m'\u001b[39m\u001b[39mthe best e_estimator number is : \u001b[39m\u001b[39m{}\u001b[39;00m\u001b[39m leads to \u001b[39m\u001b[39m{}\u001b[39;00m\u001b[39m% a\u001b[39;00m\u001b[39mccuracy \u001b[39m\u001b[39m'\u001b[39m\u001b[39m.\u001b[39mformat(\n\u001b[0;32m----> <a href='vscode-notebook-cell:/home/ruhy/projects/data_mining_uni/classification.ipynb#ch0000033?line=1'>2</a>\u001b[0m     \u001b[39mmax\u001b[39m(\u001b[39mlist\u001b[39m(scores)), \u001b[39mlist\u001b[39m(trees)[\u001b[39mlist\u001b[39;49m(scores)\u001b[39m.\u001b[39;49mindex(\u001b[39mlist\u001b[39;49m(scores))]\n\u001b[1;32m      <a href='vscode-notebook-cell:/home/ruhy/projects/data_mining_uni/classification.ipynb#ch0000033?line=2'>3</a>\u001b[0m )\n",
      "\u001b[0;31mValueError\u001b[0m: The truth value of an array with more than one element is ambiguous. Use a.any() or a.all()"
     ]
    }
   ],
   "source": [
    "'the best e_estimator number is : {} leads to {}% accuracy '.format(\n",
    "    max(list(scores)), list(trees)[list(scores).index(list(scores))]\n",
    ")\n",
    "# [print(type(i)) for i in scores]"
   ]
  },
  {
   "cell_type": "markdown",
   "metadata": {},
   "source": [
    "#6 Adaboost"
   ]
  },
  {
   "cell_type": "code",
   "execution_count": 62,
   "metadata": {},
   "outputs": [],
   "source": [
    "from sklearn.ensemble import AdaBoostClassifier\n",
    "#train \n",
    "clf = AdaBoostClassifier()\n",
    "clf.fit(x_train, y_train)\n",
    "\n",
    "# use\n",
    "y_pred = clf.predict(x_valid)\n",
    "score = calculate_acc(y_pred, y_valid)\n",
    "f'the score of adaboos is {score}'\n",
    "total_result['Adaboost'] = score\n"
   ]
  },
  {
   "cell_type": "markdown",
   "metadata": {},
   "source": [
    "#7 LightGBM"
   ]
  },
  {
   "cell_type": "code",
   "execution_count": 68,
   "metadata": {},
   "outputs": [
    {
     "data": {
      "text/plain": [
       "{'Naive_Bayes': 70.2127659574468,\n",
       " 'Random_Forest': 0.9305144088338271,\n",
       " 'Adaboost': 0.7566208815872161,\n",
       " 'LightGBM': 0.7959421851153604}"
      ]
     },
     "execution_count": 68,
     "metadata": {},
     "output_type": "execute_result"
    }
   ],
   "source": [
    "from lightgbm import LGBMClassifier\n",
    "clf = LGBMClassifier()\n",
    "clf.fit(x_train, y_train)\n",
    "y_pred = clf.predict(x_test)\n",
    "score = calculate_acc(y_pred, y_test)\n",
    "total_result['LightGBM'] = score\n",
    "total_result"
   ]
  },
  {
   "cell_type": "code",
   "execution_count": null,
   "metadata": {},
   "outputs": [],
   "source": []
  }
 ],
 "metadata": {
  "kernelspec": {
   "display_name": "Python 3.10.4 64-bit",
   "language": "python",
   "name": "python3"
  },
  "language_info": {
   "codemirror_mode": {
    "name": "ipython",
    "version": 3
   },
   "file_extension": ".py",
   "mimetype": "text/x-python",
   "name": "python",
   "nbconvert_exporter": "python",
   "pygments_lexer": "ipython3",
   "version": "3.10.4"
  },
  "orig_nbformat": 4,
  "vscode": {
   "interpreter": {
    "hash": "916dbcbb3f70747c44a77c7bcd40155683ae19c65e1c03b4aa3499c5328201f1"
   }
  }
 },
 "nbformat": 4,
 "nbformat_minor": 2
}
